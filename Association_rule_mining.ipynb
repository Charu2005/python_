{
  "cells": [
    {
      "cell_type": "markdown",
      "metadata": {
        "id": "view-in-github",
        "colab_type": "text"
      },
      "source": [
        "<a href=\"https://colab.research.google.com/github/Charu2005/python_/blob/main/Association_rule_mining.ipynb\" target=\"_parent\"><img src=\"https://colab.research.google.com/assets/colab-badge.svg\" alt=\"Open In Colab\"/></a>"
      ]
    },
    {
      "cell_type": "code",
      "source": [
        "import pandas as pd\n",
        "from mlxtend.frequent_patterns import apriori, association_rules\n",
        "\n",
        "\n",
        "#lode and processen data\n",
        "# Sample dataset of transactions\n",
        "data = {\n",
        "    'Bread': [1, 1, 1, 0, 1],\n",
        "    'Butter': [1, 1, 0, 1, 1],\n",
        "    'Milk': [1, 0, 1, 1, 1],\n",
        "    'Eggs': [0, 0, 0, 0, 1]\n",
        "}\n",
        "df = pd.DataFrame(data)\n",
        "\n",
        "\n",
        "\n",
        "# Generate frequent itemsets using the Apriori algorithm\n",
        "frequent_itemsets = apriori(df, min_support=0.6, use_colnames=True)\n",
        "print(frequent_itemsets)\n",
        "\n",
        "\n",
        "# Generate association rules with a minimum confidence of 0.7\n",
        "rules = association_rules(frequent_itemsets, metric=\"confidence\", min_threshold=0.7)\n",
        "print(rules)\n"
      ],
      "metadata": {
        "id": "pYL1b8BeoB9_",
        "outputId": "1e2b12a7-6537-4342-b57e-8f97460d07fc",
        "colab": {
          "base_uri": "https://localhost:8080/"
        }
      },
      "execution_count": null,
      "outputs": [
        {
          "output_type": "stream",
          "name": "stdout",
          "text": [
            "   support         itemsets\n",
            "0      0.8          (Bread)\n",
            "1      0.8         (Butter)\n",
            "2      0.8           (Milk)\n",
            "3      0.6  (Butter, Bread)\n",
            "4      0.6    (Milk, Bread)\n",
            "5      0.6   (Butter, Milk)\n",
            "  antecedents consequents  antecedent support  consequent support  support  \\\n",
            "0    (Butter)     (Bread)                 0.8                 0.8      0.6   \n",
            "1     (Bread)    (Butter)                 0.8                 0.8      0.6   \n",
            "2      (Milk)     (Bread)                 0.8                 0.8      0.6   \n",
            "3     (Bread)      (Milk)                 0.8                 0.8      0.6   \n",
            "4    (Butter)      (Milk)                 0.8                 0.8      0.6   \n",
            "5      (Milk)    (Butter)                 0.8                 0.8      0.6   \n",
            "\n",
            "   confidence    lift  leverage  conviction  zhangs_metric  \n",
            "0        0.75  0.9375     -0.04         0.8          -0.25  \n",
            "1        0.75  0.9375     -0.04         0.8          -0.25  \n",
            "2        0.75  0.9375     -0.04         0.8          -0.25  \n",
            "3        0.75  0.9375     -0.04         0.8          -0.25  \n",
            "4        0.75  0.9375     -0.04         0.8          -0.25  \n",
            "5        0.75  0.9375     -0.04         0.8          -0.25  \n"
          ]
        },
        {
          "output_type": "stream",
          "name": "stderr",
          "text": [
            "/usr/local/lib/python3.10/dist-packages/mlxtend/frequent_patterns/fpcommon.py:109: DeprecationWarning: DataFrames with non-bool types result in worse computationalperformance and their support might be discontinued in the future.Please use a DataFrame with bool type\n",
            "  warnings.warn(\n"
          ]
        }
      ]
    }
  ],
  "metadata": {
    "colab": {
      "toc_visible": true,
      "provenance": [],
      "include_colab_link": true
    },
    "kernelspec": {
      "display_name": "Python 3",
      "name": "python3"
    }
  },
  "nbformat": 4,
  "nbformat_minor": 0
}